{
 "cells": [
  {
   "cell_type": "markdown",
   "id": "4e25bae9",
   "metadata": {},
   "source": [
    "# Data Science Tools and Ecosystem"
   ]
  },
  {
   "cell_type": "markdown",
   "id": "c75c85e2",
   "metadata": {},
   "source": [
    "In this notebook, Data Science Tools and Ecosystem are summarized."
   ]
  },
  {
   "cell_type": "markdown",
   "id": "96085ce4",
   "metadata": {},
   "source": [
    "Objectives:\n",
    "- List popular languages for data Science\n",
    "- Commonly used libraries by Data Scientists\n",
    "- Data Science tools\n",
    "- Arithmetic expressions in Python\n",
    "- Markdowns in Python"
   ]
  },
  {
   "cell_type": "markdown",
   "id": "e2d3df70",
   "metadata": {},
   "source": [
    "Some of the popular languages that Data Scientists use are:\n",
    "1. Python\n",
    "2. R\n",
    "3. Julia"
   ]
  },
  {
   "cell_type": "markdown",
   "id": "74de4507",
   "metadata": {},
   "source": [
    "Some of the commonly used libraries used by Data Scientists include:\n",
    "1. Numpy\n",
    "2. Pandas\n",
    "3. SciPy\n",
    "4. dplyr"
   ]
  },
  {
   "cell_type": "markdown",
   "id": "8bbdd7af",
   "metadata": {},
   "source": [
    "|Data Science Tools|\n",
    "|------------------|\n",
    "|JupyterLab|\n",
    "|Jupyter notebook|\n",
    "| Virtual Studio Code|\n",
    "\n"
   ]
  },
  {
   "cell_type": "markdown",
   "id": "475376a6",
   "metadata": {},
   "source": [
    "### Below are a few examples of evaluating arithmetic expressions in Python"
   ]
  },
  {
   "cell_type": "code",
   "execution_count": null,
   "id": "58d94116",
   "metadata": {},
   "outputs": [],
   "source": [
    "# This a simple arithmetic expression to mutiply then add integers\n",
    "(3*4)+5"
   ]
  },
  {
   "cell_type": "code",
   "execution_count": null,
   "id": "5d84f4af",
   "metadata": {},
   "outputs": [],
   "source": [
    "#This will convert 200 minutes to hours by diving by 60\n",
    "200/60"
   ]
  },
  {
   "cell_type": "markdown",
   "id": "4ddfe88e",
   "metadata": {},
   "source": [
    "## Author\n",
    "Jephthah Aina"
   ]
  }
 ],
 "metadata": {
  "kernelspec": {
   "display_name": "Python 3 (ipykernel)",
   "language": "python",
   "name": "python3"
  },
  "language_info": {
   "codemirror_mode": {
    "name": "ipython",
    "version": 3
   },
   "file_extension": ".py",
   "mimetype": "text/x-python",
   "name": "python",
   "nbconvert_exporter": "python",
   "pygments_lexer": "ipython3",
   "version": "3.11.4"
  }
 },
 "nbformat": 4,
 "nbformat_minor": 5
}
